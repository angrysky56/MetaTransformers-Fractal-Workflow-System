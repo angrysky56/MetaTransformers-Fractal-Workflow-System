{
 "cells": [
  {
   "cell_type": "code",
   "execution_count": null,
   "id": "imports",
   "metadata": {},
   "outputs": [],
   "source": [
    "import matplotlib.pyplot as plt\n",
    "import networkx as nx\n",
    "import numpy as np\n",
    "from matplotlib.animation import FuncAnimation, PillowWriter\n",
    "from IPython.display import HTML\n",
    "from ipywidgets import IntSlider, FloatSlider, VBox, interact\n"
   ]
  },
  {
   "cell_type": "code",
   "execution_count": null,
   "id": "node-network-class",
   "metadata": {},
   "outputs": [],
   "source": [
    "class Node:\n",
    "    def __init__(self, id, threshold=0.5):\n",
    "        self.id = id\n",
    "        self.state = 0  # 0 = inactive, 1 = active\n",
    "        self.threshold = threshold\n",
    "        self.input_signal = 0\n",
    "        self.refractory_timer = 0\n",
    "\n",
    "    def update_state(self):\n",
    "        if self.refractory_timer > 0:\n",
    "            self.state = 0\n",
    "            self.refractory_timer -= 1\n",
    "        elif self.input_signal > self.threshold:\n",
    "            self.state = 1\n",
    "            self.refractory_timer = 3\n",
    "        else:\n",
    "            self.state = 0\n",
    "        self.input_signal = 0\n",
    "\n",
    "class DynamicNetwork:\n",
    "    def __init__(self, num_nodes):\n",
    "        self.graph = nx.Graph()\n",
    "        for i in range(num_nodes):\n",
    "            self.graph.add_node(i, node=Node(i, threshold=np.random.uniform(0.3, 0.7)))\n",
    "        for _ in range(num_nodes * 2):\n",
    "            self.graph.add_edge(\n",
    "                np.random.randint(0, num_nodes),\n",
    "                np.random.randint(0, num_nodes),\n",
    "                weight=np.random.uniform(0.1, 1.0)\n",
    "            )\n",
    "        self.stimulus_node = np.random.randint(0, num_nodes)\n",
    "\n",
    "    def propagate_signal(self, stimulus_prob=0.1):\n",
    "        if np.random.rand() < stimulus_prob:\n",
    "            self.graph.nodes[self.stimulus_node]['node'].state = 1\n",
    "        \n",
    "        for edge in self.graph.edges(data=True):\n",
    "            source, target = edge[0], edge[1]\n",
    "            signal = self.graph.nodes[source]['node'].state * edge[2]['weight']\n",
    "            self.graph.nodes[target]['node'].input_signal += signal\n",
    "\n",
    "        for node_id in self.graph.nodes:\n",
    "            self.graph.nodes[node_id]['node'].update_state()\n",
    "\n",
    "    def get_active_nodes(self):\n",
    "        return [n for n, d in self.graph.nodes(data=True) if d['node'].state == 1]"
   ]
  },
  {
   "cell_type": "code",
   "execution_count": null,
   "id": "initialize-network",
   "metadata": {},
   "outputs": [],
   "source": [
    "# Initialize network with adjustable sliders for parameters\n",
    "def initialize_network():\n",
    "    num_nodes_slider = IntSlider(value=10, min=5, max=50, step=1, description='Nodes')\n",
    "    stimulus_prob_slider = FloatSlider(value=0.1, min=0.0, max=1.0, step=0.01, description='Stimulus Prob')\n",
    "    \n",
    "    def create_network(num_nodes, stimulus_prob):\n",
    "        network = DynamicNetwork(num_nodes)\n",
    "        return network, stimulus_prob\n",
    "    \n",
    "    return interact(create_network, num_nodes=num_nodes_slider, stimulus_prob=stimulus_prob_slider)\n",
    "\n",
    "# Interactive setup for the network\n",
    "network, stimulus_prob = initialize_network()"
   ]
  },
  {
   "cell_type": "code",
   "execution_count": null,
   "id": "draw-network",
   "metadata": {},
   "outputs": [],
   "source": [
    "def draw_network(graph, active_nodes, ax, pos):\n",
    "    ax.clear()\n",
    "    nx.draw(\n",
    "        graph, pos, ax=ax, with_labels=True,\n",
    "        node_color=['red' if n in active_nodes else 'blue' for n in graph.nodes],\n",
    "        edge_color='gray', node_size=500, font_size=8\n",
    "    )\n",
    "    ax.set_title('Dynamic Neural Network')"
   ]
  },
  {
   "cell_type": "code",
   "execution_count": null,
   "id": "animate-network",
   "metadata": {},
   "outputs": [],
   "source": [
    "def animate_network(network, steps=50, save_file=None):\n",
    "    fig, ax = plt.subplots(figsize=(6, 6))\n",
    "    pos = nx.spring_layout(network.graph)\n",
    "    \n",
    "    def update(frame):\n",
    "        network.propagate_signal(stimulus_prob)\n",
    "        active_nodes = network.get_active_nodes()\n",
    "        draw_network(network.graph, active_nodes, ax, pos)\n",
    "        ax.set_title(f'Step {frame + 1}')\n",
    "    \n",
    "    anim = FuncAnimation(fig, update, frames=steps, repeat=False)\n",
    "    if save_file:\n",
    "        anim.save(save_file, writer='ffmpeg', fps=10)\n",
    "    else:\n",
    "        display(HTML(anim.to_jshtml()))\n",
    "    \n",
    "    return anim\n",
    "\n",
    "# Run animation and save it\n",
    "animation = animate_network(network, steps=100, save_file='network_simulation.mp4')"
   ]
  }
 ],
 "metadata": {
  "kernelspec": {
   "display_name": "Python 3 (ipykernel)",
   "language": "python",
   "name": "python3"
  },
  "language_info": {
   "name": "python",
   "version": "3.9.7"
  }
 },
 "nbformat": 4,
 "nbformat_minor": 5
}
